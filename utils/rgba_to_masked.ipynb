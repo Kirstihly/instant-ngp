{
 "cells": [
  {
   "cell_type": "code",
   "execution_count": 1,
   "id": "12cff387",
   "metadata": {},
   "outputs": [],
   "source": [
    "import cv2, glob, os\n",
    "import matplotlib.pyplot as plt"
   ]
  },
  {
   "cell_type": "code",
   "execution_count": 2,
   "id": "e1ccebdb",
   "metadata": {},
   "outputs": [],
   "source": [
    "rgba_images = glob.glob('/home/leyinghu/Documents/data/complex_brdf/specular/*/rgba_*.png')\n",
    "rgba_images.sort()"
   ]
  },
  {
   "cell_type": "code",
   "execution_count": 3,
   "id": "7f1716a2",
   "metadata": {},
   "outputs": [],
   "source": [
    "for rgba in rgba_images:\n",
    "    segmentation = os.path.dirname(rgba) + '/segmentation' + os.path.basename(rgba)[4:]\n",
    "    \n",
    "    image = cv2.imread(rgba, cv2.IMREAD_UNCHANGED)\n",
    "    mask = cv2.imread(segmentation, cv2.IMREAD_UNCHANGED)\n",
    "    \n",
    "    image[:,:,3][mask[:,:,0]*mask[:,:,1]*mask[:,:,2]==0] = 0\n",
    "    \n",
    "    masked = os.path.dirname(rgba) + '/masked' + os.path.basename(rgba)[4:]\n",
    "    cv2.imwrite(masked, image)"
   ]
  }
 ],
 "metadata": {
  "kernelspec": {
   "display_name": "Python 3 (ipykernel)",
   "language": "python",
   "name": "python3"
  },
  "language_info": {
   "codemirror_mode": {
    "name": "ipython",
    "version": 3
   },
   "file_extension": ".py",
   "mimetype": "text/x-python",
   "name": "python",
   "nbconvert_exporter": "python",
   "pygments_lexer": "ipython3",
   "version": "3.8.10"
  }
 },
 "nbformat": 4,
 "nbformat_minor": 5
}
