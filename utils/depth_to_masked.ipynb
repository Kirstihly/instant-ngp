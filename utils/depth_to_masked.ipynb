{
 "cells": [
  {
   "cell_type": "code",
   "execution_count": 1,
   "id": "12cff387",
   "metadata": {},
   "outputs": [],
   "source": [
    "import cv2, glob, os\n",
    "import matplotlib.pyplot as plt"
   ]
  },
  {
   "cell_type": "code",
   "execution_count": 2,
   "id": "e1ccebdb",
   "metadata": {},
   "outputs": [],
   "source": [
    "rgba_images = glob.glob('/home/leyinghu/Documents/data/gltf 6.3/scene_planeless_kubric/rgba_*.png')\n",
    "rgba_images.sort()"
   ]
  },
  {
   "cell_type": "code",
   "execution_count": 3,
   "id": "7f1716a2",
   "metadata": {},
   "outputs": [],
   "source": [
    "for rgba in rgba_images:\n",
    "    depth = os.path.dirname(rgba) + '/depth' + os.path.basename(rgba)[4:-3] + 'tiff'\n",
    "\n",
    "    image = cv2.imread(rgba, cv2.IMREAD_UNCHANGED)\n",
    "    binary_depth = cv2.imread(depth, cv2.IMREAD_UNCHANGED).astype('uint8')\n",
    "    \n",
    "#     ret, thresh = cv2.threshold(binary_depth, binary_depth.min(), binary_depth.max(),\n",
    "#                                 cv2.THRESH_BINARY + cv2.THRESH_OTSU)   \n",
    "#     masking = thresh == 0\n",
    "    \n",
    "    masking = binary_depth < 1\n",
    "    \n",
    "    image[:,:,0][masking] = 0\n",
    "    image[:,:,1][masking] = 0\n",
    "    image[:,:,2][masking] = 0\n",
    "    image[:,:,3][masking] = 0\n",
    "    \n",
    "    masked = os.path.dirname(rgba) + '/masked' + os.path.basename(rgba)[4:]\n",
    "    cv2.imwrite(masked, image)"
   ]
  }
 ],
 "metadata": {
  "kernelspec": {
   "display_name": "Python 3 (ipykernel)",
   "language": "python",
   "name": "python3"
  },
  "language_info": {
   "codemirror_mode": {
    "name": "ipython",
    "version": 3
   },
   "file_extension": ".py",
   "mimetype": "text/x-python",
   "name": "python",
   "nbconvert_exporter": "python",
   "pygments_lexer": "ipython3",
   "version": "3.8.10"
  }
 },
 "nbformat": 4,
 "nbformat_minor": 5
}
